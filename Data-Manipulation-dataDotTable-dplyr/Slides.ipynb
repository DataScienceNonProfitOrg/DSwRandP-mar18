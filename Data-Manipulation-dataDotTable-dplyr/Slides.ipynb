{
 "cells": [
  {
   "cell_type": "code",
   "execution_count": null,
   "metadata": {},
   "outputs": [],
   "source": [
    "library(dplyr)\n",
    "library(EDAWR)"
   ]
  },
  {
   "cell_type": "code",
   "execution_count": 5,
   "metadata": {},
   "outputs": [],
   "source": [
    "p <- group_by(pollution, size)"
   ]
  },
  {
   "cell_type": "code",
   "execution_count": 6,
   "metadata": {},
   "outputs": [
    {
     "data": {
      "text/html": [
       "<table>\n",
       "<thead><tr><th scope=col>size</th><th scope=col>mean</th><th scope=col>sum</th><th scope=col>n</th></tr></thead>\n",
       "<tbody>\n",
       "\t<tr><td>large   </td><td>55.33333</td><td>166     </td><td>3       </td></tr>\n",
       "\t<tr><td>small   </td><td>28.66667</td><td> 86     </td><td>3       </td></tr>\n",
       "</tbody>\n",
       "</table>\n"
      ],
      "text/latex": [
       "\\begin{tabular}{r|llll}\n",
       " size & mean & sum & n\\\\\n",
       "\\hline\n",
       "\t large    & 55.33333 & 166      & 3       \\\\\n",
       "\t small    & 28.66667 &  86      & 3       \\\\\n",
       "\\end{tabular}\n"
      ],
      "text/markdown": [
       "\n",
       "size | mean | sum | n | \n",
       "|---|---|\n",
       "| large    | 55.33333 | 166      | 3        | \n",
       "| small    | 28.66667 |  86      | 3        | \n",
       "\n",
       "\n"
      ],
      "text/plain": [
       "  size  mean     sum n\n",
       "1 large 55.33333 166 3\n",
       "2 small 28.66667  86 3"
      ]
     },
     "metadata": {},
     "output_type": "display_data"
    }
   ],
   "source": [
    "summarise(p, mean = mean(amount), sum = sum(amount), n = n())"
   ]
  },
  {
   "cell_type": "markdown",
   "metadata": {},
   "source": [
    "* Each variable must have its own column.\n",
    "* Each observation must have its own row.\n",
    "* Each value must have its own cell."
   ]
  },
  {
   "cell_type": "code",
   "execution_count": null,
   "metadata": {},
   "outputs": [],
   "source": []
  }
 ],
 "metadata": {
  "kernelspec": {
   "display_name": "R",
   "language": "R",
   "name": "ir"
  },
  "language_info": {
   "codemirror_mode": "r",
   "file_extension": ".r",
   "mimetype": "text/x-r-source",
   "name": "R",
   "pygments_lexer": "r",
   "version": "3.3.2"
  }
 },
 "nbformat": 4,
 "nbformat_minor": 2
}
