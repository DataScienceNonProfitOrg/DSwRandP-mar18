{
 "cells": [
  {
   "cell_type": "code",
   "execution_count": 1,
   "metadata": {
    "scrolled": true
   },
   "outputs": [
    {
     "name": "stderr",
     "output_type": "stream",
     "text": [
      "Warning message:\n",
      "\"package 'dplyr' was built under R version 3.4.3\"\n",
      "Attaching package: 'dplyr'\n",
      "\n",
      "The following objects are masked from 'package:stats':\n",
      "\n",
      "    filter, lag\n",
      "\n",
      "The following objects are masked from 'package:base':\n",
      "\n",
      "    intersect, setdiff, setequal, union\n",
      "\n",
      "Warning message:\n",
      "\"package 'tidyr' was built under R version 3.4.3\"Warning message:\n",
      "\"package 'fivethirtyeight' was built under R version 3.4.4\""
     ]
    }
   ],
   "source": [
    "library(dplyr)\n",
    "library(tidyr)\n",
    "library(fivethirtyeight)"
   ]
  },
  {
   "cell_type": "code",
   "execution_count": null,
   "metadata": {},
   "outputs": [],
   "source": [
    "data(package=\"fivethirtyeight\")"
   ]
  },
  {
   "cell_type": "code",
   "execution_count": 2,
   "metadata": {},
   "outputs": [],
   "source": [
    "data_oxford <- comma_survey"
   ]
  },
  {
   "cell_type": "markdown",
   "metadata": {},
   "source": [
    "### care about the subject ID, and a few other variables"
   ]
  },
  {
   "cell_type": "code",
   "execution_count": 4,
   "metadata": {},
   "outputs": [],
   "source": [
    "data_oxford_20<-\n",
    "dplyr::select(data_oxford,respondent_id,\n",
    "heard_oxford_comma, data_singular_plural)"
   ]
  },
  {
   "cell_type": "markdown",
   "metadata": {},
   "source": [
    "### work with the first 20 data points "
   ]
  },
  {
   "cell_type": "code",
   "execution_count": 5,
   "metadata": {},
   "outputs": [],
   "source": [
    "data_oxford_20<-slice(data_oxford_20,c(1:20))"
   ]
  },
  {
   "cell_type": "markdown",
   "metadata": {},
   "source": [
    "### `gather()`: wide-form to long-form"
   ]
  },
  {
   "cell_type": "code",
   "execution_count": 7,
   "metadata": {},
   "outputs": [],
   "source": [
    "data_oxford_long<-gather(data = data_oxford_20,\n",
    "\"question\",\"answer\",2:3)"
   ]
  },
  {
   "cell_type": "markdown",
   "metadata": {},
   "source": [
    "### `spread()`: long-form to wide-form"
   ]
  },
  {
   "cell_type": "markdown",
   "metadata": {},
   "source": [
    "* spread()    \n",
    "distributes a pair of key-value columns into a field of\n",
    "cells. Thus, the “keys” become separate columns, making the data\n",
    "more “wide.”    \n",
    "* spread()   \n",
    "takes three optional arguments addition to data, key, and\n",
    "value:    \n",
    "* fill =   \n",
    "if the combinations of valuables result in non-existent data,\n",
    "then puts an NA in the cell.    \n",
    "* convert =   \n",
    "if the value column contains different data types,\n",
    "convert will convert strings to doubles, integers, factors, etc.    \n",
    "* drop =   \n",
    "controls how spread() handles factors in the key column    "
   ]
  },
  {
   "cell_type": "code",
   "execution_count": 8,
   "metadata": {},
   "outputs": [],
   "source": [
    "data_oxford_wide<-spread(data = data_oxford_long,\n",
    "key = question, value = answer)"
   ]
  },
  {
   "cell_type": "markdown",
   "metadata": {},
   "source": [
    "## Pipe (Putting it together: creating a pipeline)"
   ]
  },
  {
   "cell_type": "code",
   "execution_count": 10,
   "metadata": {},
   "outputs": [
    {
     "data": {
      "text/html": [
       "<table>\n",
       "<thead><tr><th scope=col>respondent_id</th><th scope=col>question</th><th scope=col>answer</th></tr></thead>\n",
       "<tbody>\n",
       "\t<tr><td>3292644552          </td><td>heard_oxford_comma  </td><td>FALSE               </td></tr>\n",
       "\t<tr><td>3292644552          </td><td>data_singular_plural</td><td> TRUE               </td></tr>\n",
       "\t<tr><td>3292648325          </td><td>heard_oxford_comma  </td><td>FALSE               </td></tr>\n",
       "\t<tr><td>3292648325          </td><td>data_singular_plural</td><td> TRUE               </td></tr>\n",
       "\t<tr><td>3292653724          </td><td>heard_oxford_comma  </td><td> TRUE               </td></tr>\n",
       "\t<tr><td>3292653724          </td><td>data_singular_plural</td><td>FALSE               </td></tr>\n",
       "\t<tr><td>3292692304          </td><td>heard_oxford_comma  </td><td> TRUE               </td></tr>\n",
       "\t<tr><td>3292692304          </td><td>data_singular_plural</td><td>FALSE               </td></tr>\n",
       "\t<tr><td>3292702854          </td><td>heard_oxford_comma  </td><td> TRUE               </td></tr>\n",
       "\t<tr><td>3292702854          </td><td>data_singular_plural</td><td> TRUE               </td></tr>\n",
       "\t<tr><td>3292707770          </td><td>heard_oxford_comma  </td><td> TRUE               </td></tr>\n",
       "\t<tr><td>3292707770          </td><td>data_singular_plural</td><td> TRUE               </td></tr>\n",
       "\t<tr><td>3292720964          </td><td>heard_oxford_comma  </td><td> TRUE               </td></tr>\n",
       "\t<tr><td>3292720964          </td><td>data_singular_plural</td><td> TRUE               </td></tr>\n",
       "\t<tr><td>3292735069          </td><td>heard_oxford_comma  </td><td>FALSE               </td></tr>\n",
       "\t<tr><td>3292735069          </td><td>data_singular_plural</td><td> TRUE               </td></tr>\n",
       "\t<tr><td>3292742681          </td><td>heard_oxford_comma  </td><td>FALSE               </td></tr>\n",
       "\t<tr><td>3292742681          </td><td>data_singular_plural</td><td>FALSE               </td></tr>\n",
       "\t<tr><td>3292753795          </td><td>heard_oxford_comma  </td><td> TRUE               </td></tr>\n",
       "\t<tr><td>3292753795          </td><td>data_singular_plural</td><td>FALSE               </td></tr>\n",
       "\t<tr><td>3292860428          </td><td>heard_oxford_comma  </td><td>FALSE               </td></tr>\n",
       "\t<tr><td>3292860428          </td><td>data_singular_plural</td><td> TRUE               </td></tr>\n",
       "\t<tr><td>3292863455          </td><td>heard_oxford_comma  </td><td> TRUE               </td></tr>\n",
       "\t<tr><td>3292863455          </td><td>data_singular_plural</td><td>FALSE               </td></tr>\n",
       "\t<tr><td>3292869879          </td><td>heard_oxford_comma  </td><td> TRUE               </td></tr>\n",
       "\t<tr><td>3292869879          </td><td>data_singular_plural</td><td>FALSE               </td></tr>\n",
       "\t<tr><td>3292908135          </td><td>heard_oxford_comma  </td><td> TRUE               </td></tr>\n",
       "\t<tr><td>3292908135          </td><td>data_singular_plural</td><td> TRUE               </td></tr>\n",
       "\t<tr><td>3292926586          </td><td>heard_oxford_comma  </td><td>FALSE               </td></tr>\n",
       "\t<tr><td>3292926586          </td><td>data_singular_plural</td><td> TRUE               </td></tr>\n",
       "\t<tr><td>3292932522          </td><td>heard_oxford_comma  </td><td>FALSE               </td></tr>\n",
       "\t<tr><td>3292932522          </td><td>data_singular_plural</td><td>FALSE               </td></tr>\n",
       "\t<tr><td>3292932796          </td><td>heard_oxford_comma  </td><td> TRUE               </td></tr>\n",
       "\t<tr><td>3292932796          </td><td>data_singular_plural</td><td>FALSE               </td></tr>\n",
       "\t<tr><td>3292942669          </td><td>heard_oxford_comma  </td><td> TRUE               </td></tr>\n",
       "\t<tr><td>3292942669          </td><td>data_singular_plural</td><td> TRUE               </td></tr>\n",
       "\t<tr><td>3292950324          </td><td>heard_oxford_comma  </td><td>FALSE               </td></tr>\n",
       "\t<tr><td>3292950324          </td><td>data_singular_plural</td><td>FALSE               </td></tr>\n",
       "\t<tr><td>3292953864          </td><td>heard_oxford_comma  </td><td> TRUE               </td></tr>\n",
       "\t<tr><td>3292953864          </td><td>data_singular_plural</td><td>FALSE               </td></tr>\n",
       "</tbody>\n",
       "</table>\n"
      ],
      "text/latex": [
       "\\begin{tabular}{r|lll}\n",
       " respondent\\_id & question & answer\\\\\n",
       "\\hline\n",
       "\t 3292644552               & heard\\_oxford\\_comma   & FALSE                   \\\\\n",
       "\t 3292644552               & data\\_singular\\_plural &  TRUE                   \\\\\n",
       "\t 3292648325               & heard\\_oxford\\_comma   & FALSE                   \\\\\n",
       "\t 3292648325               & data\\_singular\\_plural &  TRUE                   \\\\\n",
       "\t 3292653724               & heard\\_oxford\\_comma   &  TRUE                   \\\\\n",
       "\t 3292653724               & data\\_singular\\_plural & FALSE                   \\\\\n",
       "\t 3292692304               & heard\\_oxford\\_comma   &  TRUE                   \\\\\n",
       "\t 3292692304               & data\\_singular\\_plural & FALSE                   \\\\\n",
       "\t 3292702854               & heard\\_oxford\\_comma   &  TRUE                   \\\\\n",
       "\t 3292702854               & data\\_singular\\_plural &  TRUE                   \\\\\n",
       "\t 3292707770               & heard\\_oxford\\_comma   &  TRUE                   \\\\\n",
       "\t 3292707770               & data\\_singular\\_plural &  TRUE                   \\\\\n",
       "\t 3292720964               & heard\\_oxford\\_comma   &  TRUE                   \\\\\n",
       "\t 3292720964               & data\\_singular\\_plural &  TRUE                   \\\\\n",
       "\t 3292735069               & heard\\_oxford\\_comma   & FALSE                   \\\\\n",
       "\t 3292735069               & data\\_singular\\_plural &  TRUE                   \\\\\n",
       "\t 3292742681               & heard\\_oxford\\_comma   & FALSE                   \\\\\n",
       "\t 3292742681               & data\\_singular\\_plural & FALSE                   \\\\\n",
       "\t 3292753795               & heard\\_oxford\\_comma   &  TRUE                   \\\\\n",
       "\t 3292753795               & data\\_singular\\_plural & FALSE                   \\\\\n",
       "\t 3292860428               & heard\\_oxford\\_comma   & FALSE                   \\\\\n",
       "\t 3292860428               & data\\_singular\\_plural &  TRUE                   \\\\\n",
       "\t 3292863455               & heard\\_oxford\\_comma   &  TRUE                   \\\\\n",
       "\t 3292863455               & data\\_singular\\_plural & FALSE                   \\\\\n",
       "\t 3292869879               & heard\\_oxford\\_comma   &  TRUE                   \\\\\n",
       "\t 3292869879               & data\\_singular\\_plural & FALSE                   \\\\\n",
       "\t 3292908135               & heard\\_oxford\\_comma   &  TRUE                   \\\\\n",
       "\t 3292908135               & data\\_singular\\_plural &  TRUE                   \\\\\n",
       "\t 3292926586               & heard\\_oxford\\_comma   & FALSE                   \\\\\n",
       "\t 3292926586               & data\\_singular\\_plural &  TRUE                   \\\\\n",
       "\t 3292932522               & heard\\_oxford\\_comma   & FALSE                   \\\\\n",
       "\t 3292932522               & data\\_singular\\_plural & FALSE                   \\\\\n",
       "\t 3292932796               & heard\\_oxford\\_comma   &  TRUE                   \\\\\n",
       "\t 3292932796               & data\\_singular\\_plural & FALSE                   \\\\\n",
       "\t 3292942669               & heard\\_oxford\\_comma   &  TRUE                   \\\\\n",
       "\t 3292942669               & data\\_singular\\_plural &  TRUE                   \\\\\n",
       "\t 3292950324               & heard\\_oxford\\_comma   & FALSE                   \\\\\n",
       "\t 3292950324               & data\\_singular\\_plural & FALSE                   \\\\\n",
       "\t 3292953864               & heard\\_oxford\\_comma   &  TRUE                   \\\\\n",
       "\t 3292953864               & data\\_singular\\_plural & FALSE                   \\\\\n",
       "\\end{tabular}\n"
      ],
      "text/markdown": [
       "\n",
       "respondent_id | question | answer | \n",
       "|---|---|---|---|---|---|---|---|---|---|---|---|---|---|---|---|---|---|---|---|---|---|---|---|---|---|---|---|---|---|---|---|---|---|---|---|---|---|---|---|\n",
       "| 3292644552           | heard_oxford_comma   | FALSE                | \n",
       "| 3292644552           | data_singular_plural |  TRUE                | \n",
       "| 3292648325           | heard_oxford_comma   | FALSE                | \n",
       "| 3292648325           | data_singular_plural |  TRUE                | \n",
       "| 3292653724           | heard_oxford_comma   |  TRUE                | \n",
       "| 3292653724           | data_singular_plural | FALSE                | \n",
       "| 3292692304           | heard_oxford_comma   |  TRUE                | \n",
       "| 3292692304           | data_singular_plural | FALSE                | \n",
       "| 3292702854           | heard_oxford_comma   |  TRUE                | \n",
       "| 3292702854           | data_singular_plural |  TRUE                | \n",
       "| 3292707770           | heard_oxford_comma   |  TRUE                | \n",
       "| 3292707770           | data_singular_plural |  TRUE                | \n",
       "| 3292720964           | heard_oxford_comma   |  TRUE                | \n",
       "| 3292720964           | data_singular_plural |  TRUE                | \n",
       "| 3292735069           | heard_oxford_comma   | FALSE                | \n",
       "| 3292735069           | data_singular_plural |  TRUE                | \n",
       "| 3292742681           | heard_oxford_comma   | FALSE                | \n",
       "| 3292742681           | data_singular_plural | FALSE                | \n",
       "| 3292753795           | heard_oxford_comma   |  TRUE                | \n",
       "| 3292753795           | data_singular_plural | FALSE                | \n",
       "| 3292860428           | heard_oxford_comma   | FALSE                | \n",
       "| 3292860428           | data_singular_plural |  TRUE                | \n",
       "| 3292863455           | heard_oxford_comma   |  TRUE                | \n",
       "| 3292863455           | data_singular_plural | FALSE                | \n",
       "| 3292869879           | heard_oxford_comma   |  TRUE                | \n",
       "| 3292869879           | data_singular_plural | FALSE                | \n",
       "| 3292908135           | heard_oxford_comma   |  TRUE                | \n",
       "| 3292908135           | data_singular_plural |  TRUE                | \n",
       "| 3292926586           | heard_oxford_comma   | FALSE                | \n",
       "| 3292926586           | data_singular_plural |  TRUE                | \n",
       "| 3292932522           | heard_oxford_comma   | FALSE                | \n",
       "| 3292932522           | data_singular_plural | FALSE                | \n",
       "| 3292932796           | heard_oxford_comma   |  TRUE                | \n",
       "| 3292932796           | data_singular_plural | FALSE                | \n",
       "| 3292942669           | heard_oxford_comma   |  TRUE                | \n",
       "| 3292942669           | data_singular_plural |  TRUE                | \n",
       "| 3292950324           | heard_oxford_comma   | FALSE                | \n",
       "| 3292950324           | data_singular_plural | FALSE                | \n",
       "| 3292953864           | heard_oxford_comma   |  TRUE                | \n",
       "| 3292953864           | data_singular_plural | FALSE                | \n",
       "\n",
       "\n"
      ],
      "text/plain": [
       "   respondent_id question             answer\n",
       "1  3292644552    heard_oxford_comma   FALSE \n",
       "2  3292644552    data_singular_plural  TRUE \n",
       "3  3292648325    heard_oxford_comma   FALSE \n",
       "4  3292648325    data_singular_plural  TRUE \n",
       "5  3292653724    heard_oxford_comma    TRUE \n",
       "6  3292653724    data_singular_plural FALSE \n",
       "7  3292692304    heard_oxford_comma    TRUE \n",
       "8  3292692304    data_singular_plural FALSE \n",
       "9  3292702854    heard_oxford_comma    TRUE \n",
       "10 3292702854    data_singular_plural  TRUE \n",
       "11 3292707770    heard_oxford_comma    TRUE \n",
       "12 3292707770    data_singular_plural  TRUE \n",
       "13 3292720964    heard_oxford_comma    TRUE \n",
       "14 3292720964    data_singular_plural  TRUE \n",
       "15 3292735069    heard_oxford_comma   FALSE \n",
       "16 3292735069    data_singular_plural  TRUE \n",
       "17 3292742681    heard_oxford_comma   FALSE \n",
       "18 3292742681    data_singular_plural FALSE \n",
       "19 3292753795    heard_oxford_comma    TRUE \n",
       "20 3292753795    data_singular_plural FALSE \n",
       "21 3292860428    heard_oxford_comma   FALSE \n",
       "22 3292860428    data_singular_plural  TRUE \n",
       "23 3292863455    heard_oxford_comma    TRUE \n",
       "24 3292863455    data_singular_plural FALSE \n",
       "25 3292869879    heard_oxford_comma    TRUE \n",
       "26 3292869879    data_singular_plural FALSE \n",
       "27 3292908135    heard_oxford_comma    TRUE \n",
       "28 3292908135    data_singular_plural  TRUE \n",
       "29 3292926586    heard_oxford_comma   FALSE \n",
       "30 3292926586    data_singular_plural  TRUE \n",
       "31 3292932522    heard_oxford_comma   FALSE \n",
       "32 3292932522    data_singular_plural FALSE \n",
       "33 3292932796    heard_oxford_comma    TRUE \n",
       "34 3292932796    data_singular_plural FALSE \n",
       "35 3292942669    heard_oxford_comma    TRUE \n",
       "36 3292942669    data_singular_plural  TRUE \n",
       "37 3292950324    heard_oxford_comma   FALSE \n",
       "38 3292950324    data_singular_plural FALSE \n",
       "39 3292953864    heard_oxford_comma    TRUE \n",
       "40 3292953864    data_singular_plural FALSE "
      ]
     },
     "metadata": {},
     "output_type": "display_data"
    }
   ],
   "source": [
    "data_oxford %>% select(respondent_id,heard_oxford_comma, \n",
    "                       data_singular_plural) %>% \n",
    "                        slice(c(1:20)) %>% \n",
    "                        gather(\"question\",\"answer\",2:3) %>%\n",
    "                        arrange(respondent_id) "
   ]
  },
  {
   "cell_type": "markdown",
   "metadata": {},
   "source": [
    "## More on `Pipe operator: %>%`"
   ]
  },
  {
   "cell_type": "markdown",
   "metadata": {},
   "source": [
    "http://genomicsclass.github.io/book/pages/dplyr_tutorial.html"
   ]
  },
  {
   "cell_type": "code",
   "execution_count": null,
   "metadata": {},
   "outputs": [],
   "source": [
    "library(dplyr)\n",
    "library(EDAWR)"
   ]
  },
  {
   "cell_type": "code",
   "execution_count": null,
   "metadata": {},
   "outputs": [],
   "source": []
  },
  {
   "cell_type": "code",
   "execution_count": 5,
   "metadata": {},
   "outputs": [],
   "source": [
    "p <- group_by(pollution, size)"
   ]
  },
  {
   "cell_type": "code",
   "execution_count": 6,
   "metadata": {},
   "outputs": [
    {
     "data": {
      "text/html": [
       "<table>\n",
       "<thead><tr><th scope=col>size</th><th scope=col>mean</th><th scope=col>sum</th><th scope=col>n</th></tr></thead>\n",
       "<tbody>\n",
       "\t<tr><td>large   </td><td>55.33333</td><td>166     </td><td>3       </td></tr>\n",
       "\t<tr><td>small   </td><td>28.66667</td><td> 86     </td><td>3       </td></tr>\n",
       "</tbody>\n",
       "</table>\n"
      ],
      "text/latex": [
       "\\begin{tabular}{r|llll}\n",
       " size & mean & sum & n\\\\\n",
       "\\hline\n",
       "\t large    & 55.33333 & 166      & 3       \\\\\n",
       "\t small    & 28.66667 &  86      & 3       \\\\\n",
       "\\end{tabular}\n"
      ],
      "text/markdown": [
       "\n",
       "size | mean | sum | n | \n",
       "|---|---|\n",
       "| large    | 55.33333 | 166      | 3        | \n",
       "| small    | 28.66667 |  86      | 3        | \n",
       "\n",
       "\n"
      ],
      "text/plain": [
       "  size  mean     sum n\n",
       "1 large 55.33333 166 3\n",
       "2 small 28.66667  86 3"
      ]
     },
     "metadata": {},
     "output_type": "display_data"
    }
   ],
   "source": [
    "summarise(p, mean = mean(amount), sum = sum(amount), n = n())"
   ]
  },
  {
   "cell_type": "markdown",
   "metadata": {},
   "source": [
    "* Each variable must have its own column.\n",
    "* Each observation must have its own row.\n",
    "* Each value must have its own cell."
   ]
  },
  {
   "cell_type": "code",
   "execution_count": null,
   "metadata": {},
   "outputs": [],
   "source": []
  }
 ],
 "metadata": {
  "kernelspec": {
   "display_name": "R",
   "language": "R",
   "name": "ir"
  },
  "language_info": {
   "codemirror_mode": "r",
   "file_extension": ".r",
   "mimetype": "text/x-r-source",
   "name": "R",
   "pygments_lexer": "r",
   "version": "3.4.2"
  }
 },
 "nbformat": 4,
 "nbformat_minor": 2
}
